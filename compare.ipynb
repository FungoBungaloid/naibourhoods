{
 "cells": [
  {
   "cell_type": "code",
   "execution_count": 3,
   "metadata": {},
   "outputs": [
    {
     "name": "stdout",
     "output_type": "stream",
     "text": [
      "Suburbs in CSV but not in GeoJSON: set()\n",
      "Suburbs in GeoJSON but not in CSV: set()\n"
     ]
    }
   ],
   "source": [
    "import pandas as pd\n",
    "import json\n",
    "\n",
    "# Load CSV file\n",
    "csv_file = 'data/Final.csv'\n",
    "csv_data = pd.read_csv(csv_file)\n",
    "csv_suburbs = set(csv_data['Suburb'].unique())\n",
    "\n",
    "# Load GeoJSON file\n",
    "geojson_file = 'data/Suburbs.geojson'\n",
    "with open(geojson_file) as f:\n",
    "    geojson_data = json.load(f)\n",
    "\n",
    "# Extract suburb names from GeoJSON\n",
    "geojson_suburbs = set()\n",
    "for feature in geojson_data['features']:\n",
    "    suburb_name = feature['properties']['SSC_NAME'] # Adjust the key based on your GeoJSON structure\n",
    "    geojson_suburbs.add(suburb_name)\n",
    "\n",
    "# Compare the lists\n",
    "suburbs_in_csv_not_in_geojson = csv_suburbs - geojson_suburbs\n",
    "suburbs_in_geojson_not_in_csv = geojson_suburbs - csv_suburbs\n",
    "\n",
    "print(\"Suburbs in CSV but not in GeoJSON:\", suburbs_in_csv_not_in_geojson)\n",
    "print(\"Suburbs in GeoJSON but not in CSV:\", suburbs_in_geojson_not_in_csv)\n"
   ]
  }
 ],
 "metadata": {
  "kernelspec": {
   "display_name": "Python 3",
   "language": "python",
   "name": "python3"
  },
  "language_info": {
   "codemirror_mode": {
    "name": "ipython",
    "version": 3
   },
   "file_extension": ".py",
   "mimetype": "text/x-python",
   "name": "python",
   "nbconvert_exporter": "python",
   "pygments_lexer": "ipython3",
   "version": "3.11.5"
  }
 },
 "nbformat": 4,
 "nbformat_minor": 2
}
